{
 "cells": [
  {
   "cell_type": "markdown",
   "metadata": {},
   "source": [
    "# Webscraping "
   ]
  },
  {
   "cell_type": "code",
   "execution_count": 1,
   "metadata": {},
   "outputs": [],
   "source": [
    "import re\n",
    "import base64\n",
    "def get_ip_port(tag,p):\n",
    "    scrpt=tag.find('script')  \n",
    "    l=str(scrpt).split('.decode')[1].split(')')[0].lstrip('(').strip('\"\"') \n",
    "    decoded = base64.b64decode(l)  \n",
    "    ip=decoded.decode('utf8')   #ipaddress \n",
    "    return  (str(ip)+':'+str(p)) #returns ip+port\n",
    "\n",
    "def get(row):\n",
    "    k=[]\n",
    "    try:\n",
    "        l=row.find_all('td')\n",
    "        value=[l[0],l[1],l[len(l)-1]] \n",
    "        x=get_ip_port(value[0],value[1].text)\n",
    "        k.append(x)\n",
    "        k.append(value[2].text) \n",
    "    except:\n",
    "        pass\n",
    "    \n",
    "    return k #returns list containing ip+port and Last checked"
   ]
  },
  {
   "cell_type": "code",
   "execution_count": 2,
   "metadata": {},
   "outputs": [],
   "source": [
    "#return a list port,last time checked\n",
    "def rows_values(rows):\n",
    "    data=[]\n",
    "    for row in rows:\n",
    "        v=get(row)\n",
    "        data.append(v)     \n",
    "    return data #list of list containing ip+port and Last checked\n"
   ]
  },
  {
   "cell_type": "code",
   "execution_count": 3,
   "metadata": {},
   "outputs": [],
   "source": [
    "import requests\n",
    "import time\n",
    "from bs4 import BeautifulSoup\n",
    "from bs4.builder import _htmlparser\n",
    "import pandas as pd\n",
    "\n",
    "def pages():\n",
    "    l=[]\n",
    "    for tpe in ['uptime','ping','speed']:\n",
    "        for p in ['1','2','3','4','5']:\n",
    "            url = f\"http://free-proxy.cz/en/proxylist/country/all/https/{tpe}/all/{p}\"\n",
    "            try:\n",
    "                page = requests.request('POST',url=url)\n",
    "                page_contents=page.text\n",
    "                doc= BeautifulSoup(page_contents, 'html.parser')\n",
    "                table=doc.find_all('table',{'id':'proxy_list'})\n",
    "                rows=table[0].find_all('tr')\n",
    "                rows=rows[1:]\n",
    "                val=rows_values(rows) #rows=list of all tr elements  \n",
    "\n",
    "                df=pd.DataFrame(val,columns=['IPPort','Last Checked'])\n",
    "                l.append(df)\n",
    "            except:\n",
    "                print(\"Connection refused by the server..\")\n",
    "                print(\"Let me sleep for 5 seconds\")\n",
    "                print(\"ZZzzzz...\")\n",
    "                time.sleep(5)\n",
    "                print(\"Was a nice sleep, now let me continue...\")\n",
    "                continue\n",
    "    return l #list of dataframe\n",
    "list_of_df=pages()"
   ]
  },
  {
   "cell_type": "code",
   "execution_count": 4,
   "metadata": {},
   "outputs": [
    {
     "name": "stdout",
     "output_type": "stream",
     "text": [
      "540\n"
     ]
    },
    {
     "data": {
      "text/html": [
       "<div>\n",
       "<style scoped>\n",
       "    .dataframe tbody tr th:only-of-type {\n",
       "        vertical-align: middle;\n",
       "    }\n",
       "\n",
       "    .dataframe tbody tr th {\n",
       "        vertical-align: top;\n",
       "    }\n",
       "\n",
       "    .dataframe thead th {\n",
       "        text-align: right;\n",
       "    }\n",
       "</style>\n",
       "<table border=\"1\" class=\"dataframe\">\n",
       "  <thead>\n",
       "    <tr style=\"text-align: right;\">\n",
       "      <th></th>\n",
       "      <th>IPPort</th>\n",
       "      <th>Last Checked</th>\n",
       "    </tr>\n",
       "  </thead>\n",
       "  <tbody>\n",
       "    <tr>\n",
       "      <th>338</th>\n",
       "      <td>118.99.124.172:8080</td>\n",
       "      <td>16 hours ago</td>\n",
       "    </tr>\n",
       "    <tr>\n",
       "      <th>3</th>\n",
       "      <td>199.19.95.130:1080</td>\n",
       "      <td>9 hours ago</td>\n",
       "    </tr>\n",
       "    <tr>\n",
       "      <th>39</th>\n",
       "      <td>190.109.0.229:999</td>\n",
       "      <td>15 hours ago</td>\n",
       "    </tr>\n",
       "    <tr>\n",
       "      <th>516</th>\n",
       "      <td>20.206.99.104:3128</td>\n",
       "      <td>8 hours ago</td>\n",
       "    </tr>\n",
       "    <tr>\n",
       "      <th>296</th>\n",
       "      <td>139.99.74.79:8080</td>\n",
       "      <td>8 hours ago</td>\n",
       "    </tr>\n",
       "  </tbody>\n",
       "</table>\n",
       "</div>"
      ],
      "text/plain": [
       "                  IPPort  Last Checked\n",
       "338  118.99.124.172:8080  16 hours ago\n",
       "3     199.19.95.130:1080   9 hours ago\n",
       "39     190.109.0.229:999  15 hours ago\n",
       "516   20.206.99.104:3128   8 hours ago\n",
       "296    139.99.74.79:8080   8 hours ago"
      ]
     },
     "execution_count": 4,
     "metadata": {},
     "output_type": "execute_result"
    }
   ],
   "source": [
    "import pandas as pd\n",
    "df=pd.concat(list_of_df,ignore_index=True) #concatenates the dataframe\n",
    "print(len(df))\n",
    "\n",
    "df=df[df.astype(str)['IPPort'] != '[]'] \n",
    "result=df.dropna() #removes none values \n",
    "\n",
    "result.sample(5)"
   ]
  },
  {
   "cell_type": "code",
   "execution_count": 5,
   "metadata": {},
   "outputs": [
    {
     "name": "stderr",
     "output_type": "stream",
     "text": [
      "<ipython-input-5-47faf94b11a7>:19: SettingWithCopyWarning: \n",
      "A value is trying to be set on a copy of a slice from a DataFrame.\n",
      "Try using .loc[row_indexer,col_indexer] = value instead\n",
      "\n",
      "See the caveats in the documentation: https://pandas.pydata.org/pandas-docs/stable/user_guide/indexing.html#returning-a-view-versus-a-copy\n",
      "  result['Epoch']=k\n"
     ]
    }
   ],
   "source": [
    "from datetime import datetime, timedelta\n",
    "k=[]\n",
    "for index, row in result.iterrows():\n",
    "    i=row[\"Last Checked\"]\n",
    "    if i.split(' ')[1]=='days' and int(i.split(' ')[0])>=2:\n",
    "        result=result.drop(index)                               #drops row with last checked more than 2 days \n",
    "    elif i.split(' ')[1]=='hours':   #for hours ago \n",
    "        h=int(i.split(' ')[0])\n",
    "        hh=datetime.now()- timedelta(hours =h)\n",
    "        k.append(int(hh.timestamp()))\n",
    "    elif i.split(' ')[1]=='minutes':  #for minutes ago\n",
    "        m=int(i.split(' ')[0])\n",
    "        mm=datetime.now()- timedelta(minutes =m)\n",
    "        k.append(int(hh.timestamp()))\n",
    "    elif i.split(' ')[1]=='seconds': #for seconds ago\n",
    "        s=int(i.split(' ')[0])\n",
    "        ss=datetime.now()- timedelta(seconds =s)\n",
    "        k.append(int(ss.timestamp()))  \n",
    "result['Epoch']=k        "
   ]
  },
  {
   "cell_type": "code",
   "execution_count": 6,
   "metadata": {},
   "outputs": [
    {
     "name": "stdout",
     "output_type": "stream",
     "text": [
      "                   IPPort  Last Checked       Epoch\n",
      "43    186.95.134.149:9999  10 hours ago  1630384308\n",
      "420     18.230.101.196:80  13 hours ago  1630373509\n",
      "94    36.67.152.213:11111  15 hours ago  1630366308\n",
      "176  187.190.115.139:9991  16 hours ago  1630362708\n",
      "389    68.180.3.212:45554   6 hours ago  1630398709\n"
     ]
    }
   ],
   "source": [
    "print(result.sample(5)) #with new column epoch \n"
   ]
  },
  {
   "cell_type": "code",
   "execution_count": 7,
   "metadata": {},
   "outputs": [],
   "source": [
    "result.to_csv(' Data.csv',encoding = 'utf-8') #saving to csv "
   ]
  },
  {
   "cell_type": "markdown",
   "metadata": {},
   "source": [
    "## Insert/update in the database"
   ]
  },
  {
   "cell_type": "code",
   "execution_count": 8,
   "metadata": {},
   "outputs": [],
   "source": [
    "import mysql.connector\n",
    "from mysql.connector import Error\n",
    "try:\n",
    "    conn=mysql.connector.connect(host=\"68.183.179.154\",user=\"1688dev2\",password=\"D#v1688RTF\",database=\"1688_db\",charset=\"utf8\")\n",
    "    cur=conn.cursor(prepared=True)\n",
    "    for (row,rs) in result.iterrows():\n",
    "        IP=rs[0]\n",
    "        lct=rs[2]\n",
    "        query=\"insert into proxy(IPPort,last_checked_time) values(%s,%s) on duplicate key update  IPPort=values(IPPort)\";\n",
    "        #inserts into the database simultanously updates if duplicates found\n",
    "        cur.execute(query,(IP,lct))\n",
    "    conn.commit()\n",
    "    cur.close()\n",
    "except Error as e:\n",
    "    print(\"error in mysql connection =\",e)\n",
    "finally :\n",
    "    conn.close()\n",
    "    "
   ]
  },
  {
   "cell_type": "code",
   "execution_count": null,
   "metadata": {},
   "outputs": [],
   "source": []
  }
 ],
 "metadata": {
  "kernelspec": {
   "display_name": "Python 3",
   "language": "python",
   "name": "python3"
  },
  "language_info": {
   "codemirror_mode": {
    "name": "ipython",
    "version": 3
   },
   "file_extension": ".py",
   "mimetype": "text/x-python",
   "name": "python",
   "nbconvert_exporter": "python",
   "pygments_lexer": "ipython3",
   "version": "3.8.5"
  }
 },
 "nbformat": 4,
 "nbformat_minor": 4
}
